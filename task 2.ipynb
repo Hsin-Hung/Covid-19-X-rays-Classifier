{
 "cells": [
  {
   "cell_type": "markdown",
   "metadata": {
    "nbpresent": {
     "id": "1d234e3f-af8b-4757-83f3-241b04b7a511"
    }
   },
   "source": [
    "# Class Challenge: Image Classification of COVID-19 X-rays\n",
    "# Task 2 [Total points: 30]"
   ]
  },
  {
   "cell_type": "markdown",
   "metadata": {
    "nbpresent": {
     "id": "b07b9992-b592-4871-9f9a-3b0ae5fa8b5f"
    }
   },
   "source": [
    "## Setup\n",
    "\n",
    "* This assignment involves the following packages: 'matplotlib', 'numpy', and 'sklearn'. \n",
    "\n",
    "* If you are using conda, use the following commands to install the above packages:<br>\n",
    "```shell\n",
    "conda install matplotlib\n",
    "conda install numpy\n",
    "conda install -c anaconda scikit-learn\n",
    "```\n",
    "\n",
    "* If you are using pip, use use the following commands to install the above packages: <br> \n",
    "```shell\n",
    "pip install matplotlib\n",
    "pip install numpy\n",
    "pip install sklearn\n",
    "```"
   ]
  },
  {
   "cell_type": "markdown",
   "metadata": {
    "nbpresent": {
     "id": "5516f610-f00c-43c3-bf19-4cf7ab9c089f"
    }
   },
   "source": [
    "## Data\n",
    "\n",
    "Please download the data using the following link: [COVID-19](https://drive.google.com/file/d/1Y88tgqpQ1Pjko_7rntcPowOJs_QNOrJ-/view). \n",
    "\n",
    "* After downloading 'Covid_Data_GradientCrescent.zip', unzip the file and you should see the following data structure:\n",
    "\n",
    "\n",
    "|--all<br>\n",
    "|--------train<br>\n",
    "|--------test<br>\n",
    "|--two<br>\n",
    "|--------train<br>\n",
    "|--------test<br>\n",
    "\n",
    "\n",
    "* Put the 'all' folder, the 'two' folder and this python notebook in the **same directory** so that the following code can correctly locate the data.  \n",
    "\n"
   ]
  },
  {
   "cell_type": "markdown",
   "metadata": {
    "nbpresent": {
     "id": "66140980-2aa4-457f-b1df-74c10c234cc2"
    }
   },
   "source": [
    "## [20 points] Multi-class Classification"
   ]
  },
  {
   "cell_type": "code",
   "execution_count": 1,
   "metadata": {
    "nbpresent": {
     "id": "5e05f980-3d14-4367-b3d1-664249145b13"
    },
    "scrolled": true
   },
   "outputs": [
    {
     "data": {
      "text/plain": [
       "'2.1.0'"
      ]
     },
     "execution_count": 1,
     "metadata": {},
     "output_type": "execute_result"
    }
   ],
   "source": [
    "import os\n",
    "\n",
    "import tensorflow as tf\n",
    "import numpy as np\n",
    "import matplotlib.pyplot as plt\n",
    "from tensorflow.keras.preprocessing.image import ImageDataGenerator\n",
    "\n",
    "# os.environ['OMP_NUM_THREADS'] = '1'\n",
    "# os.environ['CUDA_VISIBLE_DEVICES'] = '-1'\n",
    "tf.__version__"
   ]
  },
  {
   "cell_type": "code",
   "execution_count": 2,
   "metadata": {},
   "outputs": [],
   "source": [
    "# # https://www.tensorflow.org/guide/gpu\n",
    "# tf.debugging.set_log_device_placement(True)\n",
    "# # Create some tensors\n",
    "# a = tf.constant([[1.0, 2.0, 3.0], [4.0, 5.0, 6.0]])\n",
    "# b = tf.constant([[1.0, 2.0], [3.0, 4.0], [5.0, 6.0]])\n",
    "# c = tf.matmul(a, b)\n",
    "\n",
    "# # https://stackoverflow.com/questions/38559755/how-to-get-current-available-gpus-in-tensorflow\n",
    "# from tensorflow.python.client import device_lib\n",
    "\n",
    "# def get_available_gpus():\n",
    "#     local_device_protos = device_lib.list_local_devices()\n",
    "#     return [x.name for x in local_device_protos if x.device_type == 'GPU']\n",
    "# print(\"Num GPUs Available: \", len(tf.config.experimental.list_physical_devices('GPU')))\n",
    "# get_available_gpus()"
   ]
  },
  {
   "cell_type": "markdown",
   "metadata": {
    "nbpresent": {
     "id": "66140980-2aa4-457f-b1df-74c10c234cc2"
    }
   },
   "source": [
    "#### Load Image Data"
   ]
  },
  {
   "cell_type": "code",
   "execution_count": 3,
   "metadata": {
    "nbpresent": {
     "id": "58317664-8da3-4283-b3e5-35721687e7ab"
    }
   },
   "outputs": [],
   "source": [
    "DATA_LIST = os.listdir('all/train')\n",
    "DATASET_PATH  = 'all/train'\n",
    "TEST_DIR =  'all/test'\n",
    "IMAGE_SIZE    = (224, 224)\n",
    "NUM_CLASSES   = len(DATA_LIST)\n",
    "BATCH_SIZE    = 10  # try reducing batch size or freeze more layers if your GPU runs out of memory\n",
    "NUM_EPOCHS    = 100\n",
    "LEARNING_RATE = 0.0001 # start off with high rate first 0.001 and experiment with reducing it gradually "
   ]
  },
  {
   "cell_type": "markdown",
   "metadata": {
    "nbpresent": {
     "id": "66140980-2aa4-457f-b1df-74c10c234cc2"
    }
   },
   "source": [
    "#### Generate Training and Validation Batches"
   ]
  },
  {
   "cell_type": "code",
   "execution_count": 4,
   "metadata": {
    "nbpresent": {
     "id": "71760e29-2b08-4259-93f1-ebe68cd74a6d"
    }
   },
   "outputs": [
    {
     "name": "stderr",
     "output_type": "stream",
     "text": [
      "/opt/anaconda3/lib/python3.7/site-packages/keras_preprocessing/image/image_data_generator.py:341: UserWarning: This ImageDataGenerator specifies `zca_whitening` which overrides setting of`featurewise_std_normalization`.\n",
      "  warnings.warn('This ImageDataGenerator specifies '\n"
     ]
    },
    {
     "name": "stdout",
     "output_type": "stream",
     "text": [
      "Found 216 images belonging to 4 classes.\n",
      "Found 54 images belonging to 4 classes.\n"
     ]
    }
   ],
   "source": [
    "train_datagen = ImageDataGenerator(rescale=1./255,rotation_range=50,featurewise_center = True,\n",
    "                                   featurewise_std_normalization = True,width_shift_range=0.2,\n",
    "                                   height_shift_range=0.2,shear_range=0.25,zoom_range=0.1,\n",
    "                                   zca_whitening = True,channel_shift_range = 20,\n",
    "                                   horizontal_flip = True,vertical_flip = True,\n",
    "                                   validation_split = 0.2,fill_mode='constant')\n",
    "\n",
    "\n",
    "train_batches = train_datagen.flow_from_directory(DATASET_PATH,target_size=IMAGE_SIZE,\n",
    "                                                  shuffle=True,batch_size=BATCH_SIZE,\n",
    "                                                  subset = \"training\",seed=42,\n",
    "                                                  class_mode=\"categorical\")\n",
    "\n",
    "valid_batches = train_datagen.flow_from_directory(DATASET_PATH,target_size=IMAGE_SIZE,\n",
    "                                                  shuffle=True,batch_size=BATCH_SIZE,\n",
    "                                                  subset = \"validation\",\n",
    "                                                  seed=42,class_mode=\"categorical\")"
   ]
  },
  {
   "cell_type": "markdown",
   "metadata": {
    "nbpresent": {
     "id": "66140980-2aa4-457f-b1df-74c10c234cc2"
    }
   },
   "source": [
    "#### [10 points] Build Model\n",
    "Hint: Starting from a pre-trained model typically helps performance on a new task, e.g. starting with weights obtained by training on ImageNet. "
   ]
  },
  {
   "cell_type": "code",
   "execution_count": 1,
   "metadata": {
    "nbpresent": {
     "id": "5c52eeb2-1092-4d45-9e16-02219c82cb5e"
    }
   },
   "outputs": [
    {
     "name": "stdout",
     "output_type": "stream",
     "text": [
      "17\n",
      "Model: \"sequential\"\n",
      "_________________________________________________________________\n",
      "Layer (type)                 Output Shape              Param #   \n",
      "=================================================================\n",
      "vgg16 (Model)                (None, 7, 7, 512)         14714688  \n",
      "_________________________________________________________________\n",
      "flatten (Flatten)            (None, 25088)             0         \n",
      "_________________________________________________________________\n",
      "dropout (Dropout)            (None, 25088)             0         \n",
      "_________________________________________________________________\n",
      "feature_dense (Dense)        (None, 256)               6422784   \n",
      "_________________________________________________________________\n",
      "dropout_1 (Dropout)          (None, 256)               0         \n",
      "_________________________________________________________________\n",
      "dense (Dense)                (None, 4)                 1028      \n",
      "=================================================================\n",
      "Total params: 21,138,500\n",
      "Trainable params: 8,783,620\n",
      "Non-trainable params: 12,354,880\n",
      "_________________________________________________________________\n"
     ]
    }
   ],
   "source": [
    "from tensorflow.keras.applications import VGG16, VGG19, InceptionV3,InceptionResNetV2, DenseNet121\n",
    "from tensorflow.keras.models import Sequential\n",
    "from tensorflow.keras.layers import Flatten, Dense, Dropout, AveragePooling2D\n",
    "from tensorflow.keras import regularizers\n",
    "\n",
    "#pretrained model with imagenet weights\n",
    "vgg_16 =  VGG16(include_top=False,weights='imagenet',input_shape=(224,224,3))\n",
    "\n",
    "#fine-tuning on the last conv2D layer\n",
    "vgg_16.trainable = True\n",
    "fine_tune = len(vgg_16.layers)-2\n",
    "print(fine_tune)\n",
    "for layer in vgg_16.layers[:fine_tune]:\n",
    "    layer.trainable =  False\n",
    "\n",
    "    \n",
    "    \n",
    "covid_model = Sequential()\n",
    "covid_model.add(vgg_16)\n",
    "#covid_model.add(Dropout(0.2))\n",
    "covid_model.add(Flatten())\n",
    "covid_model.add(Dropout(0.2))\n",
    "covid_model.add(Dense(256,activation=\"relu\",name=\"feature_dense\"))\n",
    "covid_model.add(Dropout(0.2))\n",
    "covid_model.add(Dense(4,activation=\"softmax\"))\n",
    "\n",
    "covid_model.summary()"
   ]
  },
  {
   "cell_type": "markdown",
   "metadata": {
    "nbpresent": {
     "id": "66140980-2aa4-457f-b1df-74c10c234cc2"
    }
   },
   "source": [
    "#### [5 points] Train Model"
   ]
  },
  {
   "cell_type": "code",
   "execution_count": 127,
   "metadata": {
    "nbpresent": {
     "id": "cdb90d24-6a23-4969-8138-f37e7050062d"
    }
   },
   "outputs": [
    {
     "name": "stdout",
     "output_type": "stream",
     "text": [
      "22\n",
      "6\n",
      "WARNING:tensorflow:sample_weight modes were coerced from\n",
      "  ...\n",
      "    to  \n",
      "  ['...']\n",
      "WARNING:tensorflow:sample_weight modes were coerced from\n",
      "  ...\n",
      "    to  \n",
      "  ['...']\n",
      "Train for 21 steps, validate for 5 steps\n",
      "Epoch 1/100\n"
     ]
    },
    {
     "name": "stderr",
     "output_type": "stream",
     "text": [
      "/share/pkg.7/tensorflow/2.1.0/install/lib/SCC/../python3.6-gpu/site-packages/keras_preprocessing/image/image_data_generator.py:716: UserWarning: This ImageDataGenerator specifies `featurewise_center`, but it hasn't been fit on any training data. Fit it first by calling `.fit(numpy_data)`.\n",
      "  warnings.warn('This ImageDataGenerator specifies '\n",
      "/share/pkg.7/tensorflow/2.1.0/install/lib/SCC/../python3.6-gpu/site-packages/keras_preprocessing/image/image_data_generator.py:735: UserWarning: This ImageDataGenerator specifies `zca_whitening`, but it hasn't been fit on any training data. Fit it first by calling `.fit(numpy_data)`.\n",
      "  warnings.warn('This ImageDataGenerator specifies '\n"
     ]
    },
    {
     "name": "stdout",
     "output_type": "stream",
     "text": [
      "21/21 [==============================] - 8s 378ms/step - loss: 1.4640 - accuracy: 0.3058 - val_loss: 1.2338 - val_accuracy: 0.2800\n",
      "Epoch 2/100\n",
      "21/21 [==============================] - 7s 348ms/step - loss: 1.1283 - accuracy: 0.5049 - val_loss: 1.0120 - val_accuracy: 0.5600\n",
      "Epoch 3/100\n",
      "21/21 [==============================] - 8s 370ms/step - loss: 1.1245 - accuracy: 0.5243 - val_loss: 1.0137 - val_accuracy: 0.5000\n",
      "Epoch 4/100\n",
      "21/21 [==============================] - 7s 350ms/step - loss: 1.0611 - accuracy: 0.5291 - val_loss: 0.7801 - val_accuracy: 0.7400\n",
      "Epoch 5/100\n",
      "21/21 [==============================] - 8s 363ms/step - loss: 0.9271 - accuracy: 0.6019 - val_loss: 0.8401 - val_accuracy: 0.6400\n",
      "Epoch 6/100\n",
      "21/21 [==============================] - 7s 338ms/step - loss: 0.8884 - accuracy: 0.6214 - val_loss: 0.7938 - val_accuracy: 0.6400\n",
      "Epoch 7/100\n",
      "21/21 [==============================] - 7s 337ms/step - loss: 0.7900 - accuracy: 0.6650 - val_loss: 0.6280 - val_accuracy: 0.7000\n",
      "Epoch 8/100\n",
      "21/21 [==============================] - 8s 398ms/step - loss: 0.7602 - accuracy: 0.6990 - val_loss: 0.6415 - val_accuracy: 0.7000\n",
      "Epoch 9/100\n",
      "21/21 [==============================] - 6s 307ms/step - loss: 0.7641 - accuracy: 0.6650 - val_loss: 0.8668 - val_accuracy: 0.5600\n",
      "Epoch 10/100\n",
      "21/21 [==============================] - 7s 337ms/step - loss: 0.6577 - accuracy: 0.7330 - val_loss: 0.9301 - val_accuracy: 0.5600\n",
      "Epoch 11/100\n",
      "21/21 [==============================] - 7s 350ms/step - loss: 0.7390 - accuracy: 0.6602 - val_loss: 0.5924 - val_accuracy: 0.7200\n",
      "Epoch 12/100\n",
      "21/21 [==============================] - 7s 342ms/step - loss: 0.7098 - accuracy: 0.6619 - val_loss: 0.7115 - val_accuracy: 0.7000\n",
      "Epoch 13/100\n",
      "21/21 [==============================] - 7s 333ms/step - loss: 0.7044 - accuracy: 0.6942 - val_loss: 0.7153 - val_accuracy: 0.6600\n",
      "Epoch 14/100\n",
      "21/21 [==============================] - 7s 334ms/step - loss: 0.6706 - accuracy: 0.7282 - val_loss: 0.6175 - val_accuracy: 0.6200\n",
      "Epoch 15/100\n",
      "21/21 [==============================] - 7s 325ms/step - loss: 0.6594 - accuracy: 0.6845 - val_loss: 0.5968 - val_accuracy: 0.6800\n",
      "Epoch 16/100\n",
      "21/21 [==============================] - 6s 309ms/step - loss: 0.6776 - accuracy: 0.6602 - val_loss: 0.5618 - val_accuracy: 0.7000\n",
      "Epoch 17/100\n",
      "21/21 [==============================] - 7s 320ms/step - loss: 0.5683 - accuracy: 0.7767 - val_loss: 0.5419 - val_accuracy: 0.7200\n",
      "Epoch 18/100\n",
      "21/21 [==============================] - 7s 343ms/step - loss: 0.5847 - accuracy: 0.7427 - val_loss: 0.9446 - val_accuracy: 0.6200\n",
      "Epoch 19/100\n",
      "21/21 [==============================] - 7s 329ms/step - loss: 0.6689 - accuracy: 0.7087 - val_loss: 0.6220 - val_accuracy: 0.6600\n",
      "Epoch 20/100\n",
      "21/21 [==============================] - 7s 312ms/step - loss: 0.6045 - accuracy: 0.7427 - val_loss: 0.5750 - val_accuracy: 0.7200\n",
      "Epoch 21/100\n",
      "21/21 [==============================] - 7s 318ms/step - loss: 0.6235 - accuracy: 0.7136 - val_loss: 0.6859 - val_accuracy: 0.6200\n",
      "Epoch 22/100\n",
      "21/21 [==============================] - 7s 333ms/step - loss: 0.6340 - accuracy: 0.7184 - val_loss: 0.4944 - val_accuracy: 0.7800\n",
      "Epoch 23/100\n",
      "21/21 [==============================] - 7s 320ms/step - loss: 0.6019 - accuracy: 0.7476 - val_loss: 0.5715 - val_accuracy: 0.6800\n",
      "Epoch 24/100\n",
      "21/21 [==============================] - 7s 316ms/step - loss: 0.5556 - accuracy: 0.7524 - val_loss: 0.5848 - val_accuracy: 0.6600\n",
      "Epoch 25/100\n",
      "21/21 [==============================] - 7s 318ms/step - loss: 0.6305 - accuracy: 0.7379 - val_loss: 0.6975 - val_accuracy: 0.5400\n",
      "Epoch 26/100\n",
      "21/21 [==============================] - 7s 318ms/step - loss: 0.5579 - accuracy: 0.7282 - val_loss: 0.6351 - val_accuracy: 0.7200\n",
      "Epoch 27/100\n",
      "21/21 [==============================] - 7s 315ms/step - loss: 0.5026 - accuracy: 0.7864 - val_loss: 0.6838 - val_accuracy: 0.6600\n",
      "Epoch 28/100\n",
      "21/21 [==============================] - 7s 329ms/step - loss: 0.5589 - accuracy: 0.7573 - val_loss: 0.4928 - val_accuracy: 0.7600\n",
      "Epoch 29/100\n",
      "21/21 [==============================] - 7s 328ms/step - loss: 0.5646 - accuracy: 0.7573 - val_loss: 0.5988 - val_accuracy: 0.6800\n",
      "Epoch 30/100\n",
      "21/21 [==============================] - 7s 322ms/step - loss: 0.5317 - accuracy: 0.7816 - val_loss: 0.5283 - val_accuracy: 0.7000\n",
      "Epoch 31/100\n",
      "21/21 [==============================] - 7s 319ms/step - loss: 0.5791 - accuracy: 0.7330 - val_loss: 0.5924 - val_accuracy: 0.7200\n",
      "Epoch 32/100\n",
      "21/21 [==============================] - 6s 309ms/step - loss: 0.5074 - accuracy: 0.7718 - val_loss: 0.9243 - val_accuracy: 0.6600\n",
      "Epoch 33/100\n",
      "21/21 [==============================] - 6s 307ms/step - loss: 0.5430 - accuracy: 0.7621 - val_loss: 0.6654 - val_accuracy: 0.6200\n",
      "Epoch 34/100\n",
      "21/21 [==============================] - 7s 357ms/step - loss: 0.5496 - accuracy: 0.7381 - val_loss: 0.5953 - val_accuracy: 0.7200\n",
      "Epoch 35/100\n",
      "21/21 [==============================] - 7s 315ms/step - loss: 0.4986 - accuracy: 0.7816 - val_loss: 0.5140 - val_accuracy: 0.7400\n",
      "Epoch 36/100\n",
      "21/21 [==============================] - 6s 304ms/step - loss: 0.4908 - accuracy: 0.8155 - val_loss: 0.5273 - val_accuracy: 0.7800\n",
      "Epoch 37/100\n",
      "21/21 [==============================] - 7s 311ms/step - loss: 0.5186 - accuracy: 0.7621 - val_loss: 0.5915 - val_accuracy: 0.7800\n",
      "Epoch 38/100\n",
      "21/21 [==============================] - 7s 329ms/step - loss: 0.4998 - accuracy: 0.8010 - val_loss: 0.5901 - val_accuracy: 0.7200\n",
      "Epoch 39/100\n",
      "21/21 [==============================] - 6s 305ms/step - loss: 0.4987 - accuracy: 0.7816 - val_loss: 0.5333 - val_accuracy: 0.7600\n",
      "Epoch 40/100\n",
      "21/21 [==============================] - 7s 310ms/step - loss: 0.4660 - accuracy: 0.7913 - val_loss: 0.5572 - val_accuracy: 0.7000\n",
      "Epoch 41/100\n",
      "21/21 [==============================] - 6s 301ms/step - loss: 0.4640 - accuracy: 0.7816 - val_loss: 0.5853 - val_accuracy: 0.6800\n",
      "Epoch 42/100\n",
      "21/21 [==============================] - 7s 316ms/step - loss: 0.4580 - accuracy: 0.8010 - val_loss: 0.5973 - val_accuracy: 0.6600\n",
      "Epoch 43/100\n",
      "21/21 [==============================] - 7s 313ms/step - loss: 0.4821 - accuracy: 0.8010 - val_loss: 0.5367 - val_accuracy: 0.8000\n",
      "Epoch 44/100\n",
      "21/21 [==============================] - 7s 317ms/step - loss: 0.4068 - accuracy: 0.8155 - val_loss: 0.8219 - val_accuracy: 0.6600\n",
      "Epoch 45/100\n",
      "21/21 [==============================] - 7s 320ms/step - loss: 0.4177 - accuracy: 0.8252 - val_loss: 0.6939 - val_accuracy: 0.7000\n",
      "Epoch 46/100\n",
      "21/21 [==============================] - 7s 312ms/step - loss: 0.4111 - accuracy: 0.8107 - val_loss: 0.6143 - val_accuracy: 0.7600\n",
      "Epoch 47/100\n",
      "21/21 [==============================] - 7s 310ms/step - loss: 0.5308 - accuracy: 0.7816 - val_loss: 0.9536 - val_accuracy: 0.6200\n",
      "Epoch 48/100\n",
      "21/21 [==============================] - 7s 322ms/step - loss: 0.4269 - accuracy: 0.8350 - val_loss: 0.5192 - val_accuracy: 0.7200\n",
      "Epoch 49/100\n",
      "21/21 [==============================] - 6s 305ms/step - loss: 0.4320 - accuracy: 0.8301 - val_loss: 0.6543 - val_accuracy: 0.7000\n",
      "Epoch 50/100\n",
      "21/21 [==============================] - 7s 320ms/step - loss: 0.4988 - accuracy: 0.7767 - val_loss: 0.6285 - val_accuracy: 0.7000\n",
      "Epoch 51/100\n",
      "21/21 [==============================] - 7s 330ms/step - loss: 0.4181 - accuracy: 0.8058 - val_loss: 0.5753 - val_accuracy: 0.6600\n",
      "Epoch 52/100\n",
      "21/21 [==============================] - 6s 300ms/step - loss: 0.4518 - accuracy: 0.7718 - val_loss: 0.4793 - val_accuracy: 0.7600\n",
      "Epoch 53/100\n",
      "21/21 [==============================] - 6s 301ms/step - loss: 0.4271 - accuracy: 0.7913 - val_loss: 0.6473 - val_accuracy: 0.8000\n",
      "Epoch 54/100\n",
      "21/21 [==============================] - 6s 308ms/step - loss: 0.4661 - accuracy: 0.8058 - val_loss: 0.5763 - val_accuracy: 0.7400\n",
      "Epoch 55/100\n",
      "21/21 [==============================] - 6s 305ms/step - loss: 0.4136 - accuracy: 0.8398 - val_loss: 0.4755 - val_accuracy: 0.8200\n",
      "Epoch 56/100\n",
      "21/21 [==============================] - 7s 316ms/step - loss: 0.3683 - accuracy: 0.8447 - val_loss: 0.5670 - val_accuracy: 0.7600\n",
      "Epoch 57/100\n",
      "21/21 [==============================] - 7s 336ms/step - loss: 0.4002 - accuracy: 0.8350 - val_loss: 0.6964 - val_accuracy: 0.6800\n",
      "Epoch 58/100\n"
     ]
    },
    {
     "name": "stdout",
     "output_type": "stream",
     "text": [
      "21/21 [==============================] - 7s 319ms/step - loss: 0.4787 - accuracy: 0.8107 - val_loss: 0.5693 - val_accuracy: 0.7400\n",
      "Epoch 59/100\n",
      "21/21 [==============================] - 7s 312ms/step - loss: 0.4430 - accuracy: 0.8058 - val_loss: 0.6804 - val_accuracy: 0.6800\n",
      "Epoch 60/100\n",
      "21/21 [==============================] - 7s 311ms/step - loss: 0.4197 - accuracy: 0.8058 - val_loss: 0.5938 - val_accuracy: 0.7000\n",
      "Epoch 61/100\n",
      "21/21 [==============================] - 7s 325ms/step - loss: 0.3629 - accuracy: 0.8398 - val_loss: 0.5247 - val_accuracy: 0.7400\n",
      "Epoch 62/100\n",
      "21/21 [==============================] - 7s 311ms/step - loss: 0.3486 - accuracy: 0.8544 - val_loss: 0.5034 - val_accuracy: 0.7800\n",
      "Epoch 63/100\n",
      "21/21 [==============================] - 7s 315ms/step - loss: 0.3696 - accuracy: 0.8544 - val_loss: 0.6823 - val_accuracy: 0.7400\n",
      "Epoch 64/100\n",
      "21/21 [==============================] - 6s 307ms/step - loss: 0.4155 - accuracy: 0.8107 - val_loss: 0.5648 - val_accuracy: 0.7600\n",
      "Epoch 65/100\n",
      "21/21 [==============================] - 6s 307ms/step - loss: 0.3809 - accuracy: 0.8447 - val_loss: 0.8217 - val_accuracy: 0.6800\n",
      "Epoch 66/100\n",
      "21/21 [==============================] - 7s 317ms/step - loss: 0.3936 - accuracy: 0.8301 - val_loss: 0.7324 - val_accuracy: 0.7200\n",
      "Epoch 67/100\n",
      "21/21 [==============================] - 7s 326ms/step - loss: 0.3776 - accuracy: 0.8641 - val_loss: 0.6060 - val_accuracy: 0.7000\n",
      "Epoch 68/100\n",
      "21/21 [==============================] - 7s 312ms/step - loss: 0.3604 - accuracy: 0.8301 - val_loss: 0.8105 - val_accuracy: 0.7000\n",
      "Epoch 69/100\n",
      "21/21 [==============================] - 6s 303ms/step - loss: 0.4237 - accuracy: 0.8301 - val_loss: 0.5527 - val_accuracy: 0.7600\n",
      "Epoch 70/100\n",
      "21/21 [==============================] - 6s 308ms/step - loss: 0.4018 - accuracy: 0.8204 - val_loss: 0.8123 - val_accuracy: 0.7200\n",
      "Epoch 71/100\n",
      "21/21 [==============================] - 6s 305ms/step - loss: 0.3968 - accuracy: 0.8252 - val_loss: 0.4931 - val_accuracy: 0.8000\n",
      "Epoch 72/100\n",
      "21/21 [==============================] - 6s 302ms/step - loss: 0.3134 - accuracy: 0.8786 - val_loss: 0.5877 - val_accuracy: 0.7400\n",
      "Epoch 73/100\n",
      "21/21 [==============================] - 7s 310ms/step - loss: 0.4323 - accuracy: 0.8058 - val_loss: 0.7459 - val_accuracy: 0.7200\n",
      "Epoch 74/100\n",
      "21/21 [==============================] - 6s 290ms/step - loss: 0.3883 - accuracy: 0.8204 - val_loss: 0.6218 - val_accuracy: 0.7400\n",
      "Epoch 75/100\n",
      "21/21 [==============================] - 6s 301ms/step - loss: 0.4040 - accuracy: 0.8010 - val_loss: 0.6346 - val_accuracy: 0.6800\n",
      "Epoch 76/100\n",
      "21/21 [==============================] - 6s 309ms/step - loss: 0.3639 - accuracy: 0.8252 - val_loss: 0.5836 - val_accuracy: 0.7400\n",
      "Epoch 77/100\n",
      "21/21 [==============================] - 7s 317ms/step - loss: 0.3197 - accuracy: 0.8592 - val_loss: 0.6696 - val_accuracy: 0.8000\n",
      "Epoch 78/100\n",
      "21/21 [==============================] - 6s 301ms/step - loss: 0.3685 - accuracy: 0.8252 - val_loss: 0.7080 - val_accuracy: 0.6800\n",
      "Epoch 79/100\n",
      "21/21 [==============================] - 6s 298ms/step - loss: 0.3656 - accuracy: 0.8447 - val_loss: 0.9728 - val_accuracy: 0.6400\n",
      "Epoch 80/100\n",
      "21/21 [==============================] - 7s 322ms/step - loss: 0.4526 - accuracy: 0.8058 - val_loss: 0.6075 - val_accuracy: 0.7000\n",
      "Epoch 81/100\n",
      "21/21 [==============================] - 6s 309ms/step - loss: 0.3920 - accuracy: 0.8350 - val_loss: 0.6609 - val_accuracy: 0.6800\n",
      "Epoch 82/100\n",
      "21/21 [==============================] - 6s 306ms/step - loss: 0.3494 - accuracy: 0.8738 - val_loss: 0.7166 - val_accuracy: 0.7200\n",
      "Epoch 83/100\n",
      "21/21 [==============================] - 6s 307ms/step - loss: 0.3952 - accuracy: 0.8010 - val_loss: 0.5989 - val_accuracy: 0.8400\n",
      "Epoch 84/100\n",
      "21/21 [==============================] - 6s 297ms/step - loss: 0.4045 - accuracy: 0.8447 - val_loss: 0.6396 - val_accuracy: 0.7600\n",
      "Epoch 85/100\n",
      "21/21 [==============================] - 6s 304ms/step - loss: 0.3971 - accuracy: 0.8155 - val_loss: 0.6176 - val_accuracy: 0.6800\n",
      "Epoch 86/100\n",
      "21/21 [==============================] - 6s 309ms/step - loss: 0.3227 - accuracy: 0.8786 - val_loss: 0.5486 - val_accuracy: 0.7000\n",
      "Epoch 87/100\n",
      "21/21 [==============================] - 6s 306ms/step - loss: 0.3393 - accuracy: 0.8592 - val_loss: 0.6279 - val_accuracy: 0.7200\n",
      "Epoch 88/100\n",
      "21/21 [==============================] - 6s 300ms/step - loss: 0.3190 - accuracy: 0.8544 - val_loss: 0.6460 - val_accuracy: 0.6600\n",
      "Epoch 89/100\n",
      "21/21 [==============================] - 6s 303ms/step - loss: 0.3170 - accuracy: 0.8738 - val_loss: 0.6530 - val_accuracy: 0.7000\n",
      "Epoch 90/100\n",
      "21/21 [==============================] - 6s 301ms/step - loss: 0.3185 - accuracy: 0.8738 - val_loss: 0.6969 - val_accuracy: 0.6800\n",
      "Epoch 91/100\n",
      "21/21 [==============================] - 6s 304ms/step - loss: 0.3665 - accuracy: 0.8544 - val_loss: 0.5412 - val_accuracy: 0.8000\n",
      "Epoch 92/100\n",
      "21/21 [==============================] - 6s 296ms/step - loss: 0.3776 - accuracy: 0.8495 - val_loss: 0.5873 - val_accuracy: 0.7200\n",
      "Epoch 93/100\n",
      "21/21 [==============================] - 6s 295ms/step - loss: 0.3085 - accuracy: 0.8689 - val_loss: 0.4794 - val_accuracy: 0.8200\n",
      "Epoch 94/100\n",
      "21/21 [==============================] - 6s 305ms/step - loss: 0.3277 - accuracy: 0.9078 - val_loss: 0.7067 - val_accuracy: 0.7600\n",
      "Epoch 95/100\n",
      "21/21 [==============================] - 6s 302ms/step - loss: 0.3116 - accuracy: 0.8786 - val_loss: 0.8544 - val_accuracy: 0.5800\n",
      "Epoch 96/100\n",
      "21/21 [==============================] - 7s 312ms/step - loss: 0.3811 - accuracy: 0.8495 - val_loss: 0.5998 - val_accuracy: 0.7400\n",
      "Epoch 97/100\n",
      "21/21 [==============================] - 6s 303ms/step - loss: 0.3309 - accuracy: 0.8592 - val_loss: 0.4241 - val_accuracy: 0.7600\n",
      "Epoch 98/100\n",
      "21/21 [==============================] - 7s 311ms/step - loss: 0.3198 - accuracy: 0.8592 - val_loss: 0.6796 - val_accuracy: 0.6800\n",
      "Epoch 99/100\n",
      "21/21 [==============================] - 6s 296ms/step - loss: 0.3349 - accuracy: 0.8350 - val_loss: 0.6317 - val_accuracy: 0.7400\n",
      "Epoch 100/100\n",
      "21/21 [==============================] - 6s 295ms/step - loss: 0.3659 - accuracy: 0.8350 - val_loss: 0.6785 - val_accuracy: 0.7000\n",
      "Execution time: 667.0809080600739\n"
     ]
    }
   ],
   "source": [
    "import time\n",
    "\n",
    "#FIT MODEL\n",
    "print(len(train_batches))\n",
    "print(len(valid_batches))\n",
    "\n",
    "STEP_SIZE_TRAIN=train_batches.n//train_batches.batch_size\n",
    "STEP_SIZE_VALID=valid_batches.n//valid_batches.batch_size\n",
    "\n",
    "# lrs = tf.keras.optimizers.schedules.InverseTimeDecay(\n",
    "#           LEARNING_RATE,\n",
    "#           decay_steps=STEP_SIZE_TRAIN*20,\n",
    "#           decay_rate=1,\n",
    "#           staircase=False)\n",
    "\n",
    "opt = tf.keras.optimizers.Adam(learning_rate=LEARNING_RATE)\n",
    "\n",
    "covid_model.compile(optimizer=opt,\n",
    "                    loss=\"categorical_crossentropy\",    \n",
    "                    metrics=['accuracy'])\n",
    "\n",
    "#callback = tf.keras.callbacks.EarlyStopping(monitor='val_loss',patience=10)\n",
    "\n",
    "\n",
    "start = time.time()\n",
    "history = covid_model.fit(train_batches, \n",
    "                          steps_per_epoch=STEP_SIZE_TRAIN, \n",
    "                          epochs=NUM_EPOCHS, \n",
    "                          validation_data=valid_batches, \n",
    "                          validation_steps=STEP_SIZE_VALID)\n",
    "\n",
    "end = time.time()\n",
    "print(\"Execution time:\",end-start)"
   ]
  },
  {
   "cell_type": "markdown",
   "metadata": {
    "nbpresent": {
     "id": "66140980-2aa4-457f-b1df-74c10c234cc2"
    }
   },
   "source": [
    "#### [5 points] Plot Accuracy and Loss During Training"
   ]
  },
  {
   "cell_type": "code",
   "execution_count": 128,
   "metadata": {
    "nbpresent": {
     "id": "ff342098-784a-4e20-ac34-b74ca8ebe839"
    }
   },
   "outputs": [
    {
     "data": {
      "image/png": "[encoded data removed]",
      "text/plain": [
       "<Figure size 432x288 with 1 Axes>"
      ]
     },
     "metadata": {
      "needs_background": "light"
     },
     "output_type": "display_data"
    },
    {
     "data": {
      "image/png": "[encoded data removed]",
      "text/plain": [
       "<Figure size 432x288 with 1 Axes>"
      ]
     },
     "metadata": {
      "needs_background": "light"
     },
     "output_type": "display_data"
    }
   ],
   "source": [
    "import matplotlib.pyplot as plt\n",
    "\n",
    "#accuracy vs. epochs plot\n",
    "plt.figure(1)\n",
    "plt.plot(history.history['accuracy'], label='Train_acc')\n",
    "plt.plot(history.history['val_accuracy'], label = 'Test_acc')\n",
    "plt.title(\"Accuracy over 40 epochs\")\n",
    "plt.xlabel('Epoch')\n",
    "plt.ylabel('Accuracy')\n",
    "plt.legend(loc='lower right')\n",
    "plt.grid()\n",
    "\n",
    "#loss vs. epochs plot\n",
    "plt.figure(2)\n",
    "plt.plot(history.history['loss'], label='Train_loss')\n",
    "plt.plot(history.history['val_loss'], label = 'Test_loss')\n",
    "plt.title(\"Loss over 40 epochs\")\n",
    "plt.xlabel('Epoch')\n",
    "plt.ylabel('Loss')\n",
    "plt.legend(loc='upper right')\n",
    "plt.grid()\n",
    "\n",
    "plt.show()"
   ]
  },
  {
   "cell_type": "markdown",
   "metadata": {
    "nbpresent": {
     "id": "66140980-2aa4-457f-b1df-74c10c234cc2"
    }
   },
   "source": [
    "#### Testing Model"
   ]
  },
  {
   "cell_type": "code",
   "execution_count": 129,
   "metadata": {},
   "outputs": [
    {
     "name": "stdout",
     "output_type": "stream",
     "text": [
      "Found 36 images belonging to 4 classes.\n",
      "36\n",
      "WARNING:tensorflow:sample_weight modes were coerced from\n",
      "  ...\n",
      "    to  \n",
      "  ['...']\n",
      "36/36 [==============================] - 1s 32ms/step - loss: 0.6274 - accuracy: 0.7778\n",
      "Test loss: 0.6273693983481728\n",
      "Test accuracy: 0.7777778\n"
     ]
    }
   ],
   "source": [
    "model = covid_model\n",
    "test_datagen = ImageDataGenerator(rescale=1. / 255)\n",
    "#model.save_weights('./checkpoints/my_checkpoint')\n",
    "#model.save('saved_model/my_model') \n",
    "eval_generator = test_datagen.flow_from_directory(TEST_DIR,target_size=IMAGE_SIZE,\n",
    "                                                  batch_size=1,shuffle=False,seed=42,class_mode=\"categorical\")\n",
    "eval_generator.reset()\n",
    "print(len(eval_generator))\n",
    "x = model.evaluate_generator(eval_generator,steps = np.ceil(len(eval_generator)),\n",
    "                           use_multiprocessing = False,verbose = 1,workers=1)\n",
    "print('Test loss:' , x[0])\n",
    "print('Test accuracy:',x[1])"
   ]
  },
  {
   "cell_type": "markdown",
   "metadata": {
    "nbpresent": {
     "id": "66140980-2aa4-457f-b1df-74c10c234cc2"
    }
   },
   "source": [
    "## [10 points] TSNE Plot\n",
    "t-Distributed Stochastic Neighbor Embedding (t-SNE) is a widely used technique for dimensionality reduction that is particularly well suited for the visualization of high-dimensional datasets. After training is complete, extract features from a specific deep layer of your choice, use t-SNE to reduce the dimensionality of your extracted features to 2 dimensions and plot the resulting 2D features."
   ]
  },
  {
   "cell_type": "code",
   "execution_count": 130,
   "metadata": {},
   "outputs": [
    {
     "name": "stdout",
     "output_type": "stream",
     "text": [
      "Found 270 images belonging to 4 classes.\n",
      "{'covid': 0, 'normal': 1, 'pneumonia_bac': 2, 'pneumonia_vir': 3}\n"
     ]
    },
    {
     "data": {
      "image/png": "[encoded data removed]",
      "text/plain": [
       "<Figure size 432x288 with 1 Axes>"
      ]
     },
     "metadata": {
      "needs_background": "light"
     },
     "output_type": "display_data"
    }
   ],
   "source": [
    "from sklearn.manifold import TSNE\n",
    "from tensorflow.keras import models\n",
    "\n",
    "intermediate_layer_model = models.Model(inputs=model.input,\n",
    "                                        outputs=model.get_layer('feature_dense').output)\n",
    "\n",
    "tsne_eval_generator = test_datagen.flow_from_directory(DATASET_PATH,target_size=IMAGE_SIZE,\n",
    "                                                  batch_size=1,shuffle=False,seed=42,class_mode=\"categorical\")\n",
    "\n",
    "print(tsne_eval_generator.class_indices)\n",
    "labels = tsne_eval_generator.labels\n",
    "\n",
    "predict = intermediate_layer_model.predict_generator(tsne_eval_generator)\n",
    "\n",
    "tsne = TSNE(n_components=2).fit_transform(predict)\n",
    "covid = []\n",
    "normal = []\n",
    "pne_bac = []\n",
    "pne_vir = []\n",
    "for i in range(len(labels)):\n",
    "    if labels[i]==0:\n",
    "        covid.append(tsne[i])\n",
    "    elif labels[i]==1:\n",
    "        normal.append(tsne[i])\n",
    "    elif labels[i]==2:\n",
    "        pne_bac.append(tsne[i])\n",
    "    else:\n",
    "        pne_vir.append(tsne[i])\n",
    "        \n",
    "covid = np.asarray(covid)\n",
    "normal = np.asarray(normal)\n",
    "pne_bac = np.asarray(pne_bac)\n",
    "pne_vir = np.asarray(pne_vir)\n",
    "\n",
    "\n",
    "plt.scatter(covid[:,0],covid[:,1],c=\"r\",label=\"COVID-19\")\n",
    "plt.scatter(normal[:,0],normal[:,1],c=\"b\",label=\"Normal\")\n",
    "plt.scatter(pne_bac[:,0],pne_bac[:,1],c=\"g\",label=\"Pne_bac\")\n",
    "plt.scatter(pne_vir[:,0],pne_vir[:,1],c=\"y\",label=\"Pne_vir\")\n",
    "plt.legend(loc='upper right')\n",
    "plt.show()"
   ]
  },
  {
   "cell_type": "markdown",
   "metadata": {},
   "source": [
    "<!-- ## Task 2: COVID-19 vs Normal vs Tertiary Pneumonia (Bacterial and Viral) -->"
   ]
  },
  {
   "cell_type": "markdown",
   "metadata": {
    "nbpresent": {
     "id": "66140980-2aa4-457f-b1df-74c10c234cc2"
    }
   },
   "source": [
    "<!-- #### Renew Training Batch and Validation Batch -->"
   ]
  },
  {
   "cell_type": "markdown",
   "metadata": {
    "nbpresent": {
     "id": "66140980-2aa4-457f-b1df-74c10c234cc2"
    }
   },
   "source": [
    "<!-- #### Renew Model -->"
   ]
  }
 ],
 "metadata": {
  "kernelspec": {
   "display_name": "Python 3",
   "language": "python",
   "name": "python3"
  },
  "language_info": {
   "codemirror_mode": {
    "name": "ipython",
    "version": 3
   },
   "file_extension": ".py",
   "mimetype": "text/x-python",
   "name": "python",
   "nbconvert_exporter": "python",
   "pygments_lexer": "ipython3",
   "version": "3.7.4"
  },
  "latex_envs": {
   "LaTeX_envs_menu_present": true,
   "autoclose": false,
   "autocomplete": true,
   "bibliofile": "biblio.bib",
   "cite_by": "apalike",
   "current_citInitial": 1,
   "eqLabelWithNumbers": true,
   "eqNumInitial": 1,
   "hotkeys": {
    "equation": "Ctrl-E",
    "itemize": "Ctrl-I"
   },
   "labels_anchors": false,
   "latex_user_defs": false,
   "report_style_numbering": false,
   "user_envs_cfg": false
  },
  "toc": {
   "base_numbering": 1,
   "nav_menu": {},
   "number_sections": true,
   "sideBar": true,
   "skip_h1_title": false,
   "title_cell": "Table of Contents",
   "title_sidebar": "Contents",
   "toc_cell": false,
   "toc_position": {},
   "toc_section_display": true,
   "toc_window_display": false
  },
  "varInspector": {
   "cols": {
    "lenName": 16,
    "lenType": 16,
    "lenVar": 40
   },
   "kernels_config": {
    "python": {
     "delete_cmd_postfix": "",
     "delete_cmd_prefix": "del ",
     "library": "var_list.py",
     "varRefreshCmd": "print(var_dic_list())"
    },
    "r": {
     "delete_cmd_postfix": ") ",
     "delete_cmd_prefix": "rm(",
     "library": "var_list.r",
     "varRefreshCmd": "cat(var_dic_list()) "
    }
   },
   "types_to_exclude": [
    "module",
    "function",
    "builtin_function_or_method",
    "instance",
    "_Feature"
   ],
   "window_display": false
  }
 },
 "nbformat": 4,
 "nbformat_minor": 4
}
